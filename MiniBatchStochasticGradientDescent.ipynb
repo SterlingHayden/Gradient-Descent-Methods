{
  "nbformat": 4,
  "nbformat_minor": 0,
  "metadata": {
    "colab": {
      "provenance": [],
      "include_colab_link": true
    },
    "kernelspec": {
      "name": "python3",
      "display_name": "Python 3"
    },
    "language_info": {
      "name": "python"
    }
  },
  "cells": [
    {
      "cell_type": "markdown",
      "metadata": {
        "id": "view-in-github",
        "colab_type": "text"
      },
      "source": [
        "<a href=\"https://colab.research.google.com/github/SterlingHayden/Gradient-Descent-Methods/blob/main/MiniBatchStochasticGradientDescent.ipynb\" target=\"_parent\"><img src=\"https://colab.research.google.com/assets/colab-badge.svg\" alt=\"Open In Colab\"/></a>"
      ]
    },
    {
      "cell_type": "markdown",
      "source": [
        "# Lesson 15: Stochastic Gradient Descent, Mini-Batch Stochastic Gradient Descent, and Online Learning\n",
        "\n",
        "---"
      ],
      "metadata": {
        "id": "YWaLEAOAdqws"
      }
    },
    {
      "cell_type": "markdown",
      "source": [
        "## Objectives"
      ],
      "metadata": {
        "id": "4T79FDmQd4VS"
      }
    },
    {
      "cell_type": "markdown",
      "source": [
        "Students will be skilled at\n",
        "\n",
        "1. implementing stochastic gradient descent and mini-batch stochastic gradient descent algorithms\n"
      ],
      "metadata": {
        "id": "ikAtmm5Ld7cj"
      }
    },
    {
      "cell_type": "markdown",
      "source": [
        "## Importing numpy and matplotlib"
      ],
      "metadata": {
        "id": "zLlajWQSeQ5X"
      }
    },
    {
      "cell_type": "markdown",
      "source": [
        "We will use numpy to assist in implementing numerical subroutines.  We will also use matplotlib to visualize the algorithms."
      ],
      "metadata": {
        "id": "FSRpTJkgeXMs"
      }
    },
    {
      "cell_type": "code",
      "execution_count": null,
      "metadata": {
        "id": "rzW91-0pdoev"
      },
      "outputs": [],
      "source": [
        "import numpy as np\n",
        "import matplotlib.pyplot as pt"
      ]
    },
    {
      "cell_type": "markdown",
      "source": [
        "## Example: Least Squares Regression"
      ],
      "metadata": {
        "id": "TByLpFa3evs1"
      }
    },
    {
      "cell_type": "markdown",
      "source": [
        "Below, we illustrate the ideas of this lesson as applied to least squares regression.  These ideas can be applied to other statistical learning models by replacing the objective function and gradient accordingly."
      ],
      "metadata": {
        "id": "UXnlDuGva6Xu"
      }
    },
    {
      "cell_type": "markdown",
      "source": [
        "### Statement of Optimization Model"
      ],
      "metadata": {
        "id": "9CV64_ELe-61"
      }
    },
    {
      "cell_type": "markdown",
      "source": [
        "The least-squares regression model is obtained by solving"
      ],
      "metadata": {
        "id": "6DHcnlZQAy2D"
      }
    },
    {
      "cell_type": "markdown",
      "source": [
        "$\\min_{b,\\beta} \\| X \\beta - y \\|_2^2$,"
      ],
      "metadata": {
        "id": "BjIo6JdEAwvr"
      }
    },
    {
      "cell_type": "markdown",
      "source": [
        "which is equivalent to"
      ],
      "metadata": {
        "id": "LXlwBpkgUHuV"
      }
    },
    {
      "cell_type": "markdown",
      "source": [
        "$\\min_{b,\\beta} f(b,\\beta) = \\frac{1}{m}\\| X \\beta - y \\|_2^2$"
      ],
      "metadata": {
        "id": "7La3_fIrUMyU"
      }
    },
    {
      "cell_type": "markdown",
      "source": [
        "where\n",
        "* $\\beta = [\\beta_0, \\beta_1,\\ldots,\\beta_n]^T$ are the regression coefficients (here $\\beta_0$ is the intercept)\n",
        "* $X$ is an $m \\times (n + 1)$ matrix in which the element $x_{ij}$ in row $i = 0,1,\\ldots,m - 1$ and column $j = 0,1,\\ldots,n$ is the value of feature $j$ in observation $i$.  (Note: Every element in row $j = 0$ will be assigned a value of $1$; thus, $\\beta_0$ represents the intercept of the regression model.)\n",
        "* $y = [y_0,y_1,\\ldots,y_{m-1}]^T$ are the response values associated with each observation"
      ],
      "metadata": {
        "id": "4tnvhtZZ_Wzh"
      }
    },
    {
      "cell_type": "markdown",
      "source": [
        "### Evaluating the Objective Function and Gradient"
      ],
      "metadata": {
        "id": "anIpWGc0Uk-Y"
      }
    },
    {
      "cell_type": "markdown",
      "source": [
        "We will first define functions to evaluate the objective and objective gradient.  We illustrate using a small example with $n = 2$ features and $m = 4$ observations."
      ],
      "metadata": {
        "id": "Lv3zYQVfa1fh"
      }
    },
    {
      "cell_type": "code",
      "source": [
        "# Example Data\n",
        "X = np.array([[1, 1.62434536, -0.61175641], [1, -0.52817175, -1.07296862],\n",
        "              [1, 0.86540763, -2.3015387],[1, 1.74481176, -0.7612069]])\n",
        "y = np.array([10.72203816, 6.66382161, 16.55964722, 6.65296281])"
      ],
      "metadata": {
        "id": "rN3L9LdYUq1v"
      },
      "execution_count": null,
      "outputs": []
    },
    {
      "cell_type": "code",
      "source": [],
      "metadata": {
        "id": "uGqOI4E1HO2o"
      },
      "execution_count": null,
      "outputs": []
    },
    {
      "cell_type": "markdown",
      "source": [
        "The following function evaluates the objective."
      ],
      "metadata": {
        "id": "vpQCKXE6bFjV"
      }
    },
    {
      "cell_type": "code",
      "source": [
        "# Function to evaluate the objective\n",
        "# Will assume as input a numpy.ndarray solution of length n+1; elements are (beta[0],beta[1],beta[2],...,beta[n])\n",
        "def f(beta, X_vals, y_vals):\n",
        "  try:\n",
        "    res = X_vals @ beta - y_vals\n",
        "    num_obs = X_vals.shape[0]\n",
        "    return (1/num_obs)*sum(res**2)\n",
        "  except:\n",
        "    print(\"Not a valid solution\")"
      ],
      "metadata": {
        "id": "y1hzd5ChfoVw"
      },
      "execution_count": null,
      "outputs": []
    },
    {
      "cell_type": "markdown",
      "source": [
        "The gradient is given by $\\nabla f(\\beta) = [\\partial f/ \\partial \\beta_0, \\partial f/ \\partial \\beta_1, \\ldots, \\partial f/ \\partial \\beta_n]$, where"
      ],
      "metadata": {
        "id": "HTJ1XSUVV_Uv"
      }
    },
    {
      "cell_type": "markdown",
      "source": [
        "$$\\partial f / \\partial \\beta_j = \\frac{2}{m}\\sum_{i=0}^{m-1}x_{ij}\\left(\\sum_{k = 0}^{n} \\beta_k x_{ij} - y_i\\right), \\ \\forall j = 0,1,\\ldots,n$$."
      ],
      "metadata": {
        "id": "09OIOfZamwTp"
      }
    },
    {
      "cell_type": "markdown",
      "source": [
        "Alternatively, we can express $\\nabla f(\\beta)$ as"
      ],
      "metadata": {
        "id": "Us0aBeVyDHNG"
      }
    },
    {
      "cell_type": "markdown",
      "source": [
        "$$\\nabla f(\\beta) = \\frac{2}{m} X^T(X\\beta - y) $$"
      ],
      "metadata": {
        "id": "fsGh2cTtDOQ5"
      }
    },
    {
      "cell_type": "markdown",
      "source": [
        "The following function evaluates the objective gradient."
      ],
      "metadata": {
        "id": "U4W2qPPgbVcp"
      }
    },
    {
      "cell_type": "code",
      "source": [
        "# Function to evaluate the gradient\n",
        "def f_gradient(beta, X_vals, y_vals):\n",
        "  try:\n",
        "    res =  X_vals @ beta - y_vals\n",
        "    num_obs = X_vals.shape[0]\n",
        "    return (2/num_obs) * X_vals.T @ res\n",
        "  except:\n",
        "    print(\"Not a valid solution\")"
      ],
      "metadata": {
        "id": "O6mhoNRYhU8N"
      },
      "execution_count": null,
      "outputs": []
    },
    {
      "cell_type": "markdown",
      "source": [
        "The following code tests the objective and gradient functions"
      ],
      "metadata": {
        "id": "H48ISVATb0YH"
      }
    },
    {
      "cell_type": "code",
      "source": [
        "# Test the objective and gradient functions\n",
        "beta_sol = np.array([5, 3, -2])\n",
        "print(f(beta_sol, X, y))\n",
        "print(f_gradient(beta_sol, X, y))"
      ],
      "metadata": {
        "id": "sGJHukoEWT8j",
        "colab": {
          "base_uri": "https://localhost:8080/"
        },
        "outputId": "84439085-ac3b-4b85-9de9-36c2d92bbbf6"
      },
      "execution_count": null,
      "outputs": [
        {
          "output_type": "stream",
          "name": "stdout",
          "text": [
            "11.604455905901606\n",
            "[0.00782523 3.1612172  3.55206231]\n"
          ]
        }
      ]
    },
    {
      "cell_type": "markdown",
      "source": [
        "### Fit a Small Dataset Using Gradient Descent"
      ],
      "metadata": {
        "id": "CXj2HDKjZpVV"
      }
    },
    {
      "cell_type": "markdown",
      "source": [
        "We begin by fitting the regression model using gradient descent.  Although this is not the preferred method for fitting a basic least-squares regression model, I have chosen this example because it provides a simple illustration that can also be extended to other kinds of models."
      ],
      "metadata": {
        "id": "7-KFcKTLggWc"
      }
    },
    {
      "cell_type": "markdown",
      "source": [
        "We demonstrate initially using a slightly larger random data set with 2 features and 25 observations.  "
      ],
      "metadata": {
        "id": "INUuXLf6hpe8"
      }
    },
    {
      "cell_type": "code",
      "source": [
        "# Generate a random data set with 2 features and 25 observations\n",
        "# Each obs. of each feature is generated from a standard normal distribution\n",
        "m = 25\n",
        "n = 2\n",
        "np.random.seed(1)\n",
        "ones_array = np.ones((m,1))\n",
        "features_array = np.random.normal(0,1,(m,n))\n",
        "X = np.hstack((ones_array,features_array))"
      ],
      "metadata": {
        "id": "cJpCHUxmiXuA"
      },
      "execution_count": null,
      "outputs": []
    },
    {
      "cell_type": "markdown",
      "source": [
        "We randomly generate the response values as $y_i = 5 + 2x_{i1} -3x_{i2} + \\epsilon_i$, where $\\epsilon_i$ is normally distributed with mean $0$ and standard deviation $2$"
      ],
      "metadata": {
        "id": "NpTlXhsSiafy"
      }
    },
    {
      "cell_type": "code",
      "source": [
        "# Generate response values according to the theoretical model y_i = 5 + 2x[i,1] -3x[i,2]\n",
        "theoretical_coefs = np.array([5, 2,-3])\n",
        "y = X @ theoretical_coefs + np.random.normal(0,2,m)"
      ],
      "metadata": {
        "id": "PEvjblnDZmXw"
      },
      "execution_count": null,
      "outputs": []
    },
    {
      "cell_type": "markdown",
      "source": [
        "The resulting data is displayed below."
      ],
      "metadata": {
        "id": "Tno4MUzZjN6p"
      }
    },
    {
      "cell_type": "code",
      "source": [
        "print(\"X:\")\n",
        "print(X)\n",
        "print(\"y:\")\n",
        "print(y)"
      ],
      "metadata": {
        "id": "v2lxoRFmjNgu",
        "colab": {
          "base_uri": "https://localhost:8080/"
        },
        "outputId": "ee0da958-7302-4c34-a948-ae7c438859b9"
      },
      "execution_count": null,
      "outputs": [
        {
          "output_type": "stream",
          "name": "stdout",
          "text": [
            "X:\n",
            "[[ 1.          1.62434536 -0.61175641]\n",
            " [ 1.         -0.52817175 -1.07296862]\n",
            " [ 1.          0.86540763 -2.3015387 ]\n",
            " [ 1.          1.74481176 -0.7612069 ]\n",
            " [ 1.          0.3190391  -0.24937038]\n",
            " [ 1.          1.46210794 -2.06014071]\n",
            " [ 1.         -0.3224172  -0.38405435]\n",
            " [ 1.          1.13376944 -1.09989127]\n",
            " [ 1.         -0.17242821 -0.87785842]\n",
            " [ 1.          0.04221375  0.58281521]\n",
            " [ 1.         -1.10061918  1.14472371]\n",
            " [ 1.          0.90159072  0.50249434]\n",
            " [ 1.          0.90085595 -0.68372786]\n",
            " [ 1.         -0.12289023 -0.93576943]\n",
            " [ 1.         -0.26788808  0.53035547]\n",
            " [ 1.         -0.69166075 -0.39675353]\n",
            " [ 1.         -0.6871727  -0.84520564]\n",
            " [ 1.         -0.67124613 -0.0126646 ]\n",
            " [ 1.         -1.11731035  0.2344157 ]\n",
            " [ 1.          1.65980218  0.74204416]\n",
            " [ 1.         -0.19183555 -0.88762896]\n",
            " [ 1.         -0.74715829  1.6924546 ]\n",
            " [ 1.          0.05080775 -0.63699565]\n",
            " [ 1.          0.19091548  2.10025514]\n",
            " [ 1.          0.12015895  0.61720311]]\n",
            "y:\n",
            "[10.68430061  6.45806267 11.35039495 10.07455879  5.96840085 15.27788438\n",
            "  7.18529548 12.42941685  7.85989349  5.10626418 -2.14420537  7.80143473\n",
            "  9.87875512  6.96534218  3.85019373  4.65579565  8.4245303   6.73513517\n",
            "  6.43328302  3.3004792   4.39098818 -2.58061212  7.33267659  0.8334034\n",
            "  4.01997847]\n"
          ]
        }
      ]
    },
    {
      "cell_type": "markdown",
      "source": [
        "#### Implement a Single Gradient Descent Step"
      ],
      "metadata": {
        "id": "qDTXWkNri1r0"
      }
    },
    {
      "cell_type": "markdown",
      "source": [
        "In the gradient descent method, we perform the update"
      ],
      "metadata": {
        "id": "OosI92e_jg4a"
      }
    },
    {
      "cell_type": "markdown",
      "source": [
        "$\\mathbf{x}^{(k+1)} \\leftarrow \\mathbf{x}^{(k)} + t^{(k)}\\mathbf{d}^{(k)}$"
      ],
      "metadata": {
        "id": "5n8mn_PSjW1E"
      }
    },
    {
      "cell_type": "markdown",
      "source": [
        "where $\\mathbf{x}^{(k)}$ is the solution in iteration $k$, $t^{(k)}$ is the step size in iteration $k$, and $d = -\\nabla f(\\mathbf{x}^{(k)})$ is the search direction in iteration $k$."
      ],
      "metadata": {
        "id": "3L6jyjZHjltz"
      }
    },
    {
      "cell_type": "code",
      "source": [
        "# Function that computes the next solution given the current solution and the step size\n",
        "def gd_update(current_beta, X_vals, y_vals, step_size):\n",
        "  return current_beta - step_size*f_gradient(current_beta, X_vals, y_vals)"
      ],
      "metadata": {
        "id": "U7sGyfcDjFRT"
      },
      "execution_count": null,
      "outputs": []
    },
    {
      "cell_type": "code",
      "source": [
        "# Test the function using the initial sol [beta_0, beta_1, beta_2] = [0,0,0]\n",
        "# We would expect the value of beta_0 and beta_1 to increase; beta_2 to decrease\n",
        "beta_sol = np.array([0,0,0])\n",
        "print(gd_update(beta_sol, X, y, .01))"
      ],
      "metadata": {
        "id": "B0_nBTxwkxao",
        "colab": {
          "base_uri": "https://localhost:8080/"
        },
        "outputId": "b3f53e93-a2fc-41c1-f13c-89f3d145f054"
      },
      "execution_count": null,
      "outputs": [
        {
          "output_type": "stream",
          "name": "stdout",
          "text": [
            "[ 0.12983332  0.06359097 -0.09931205]\n"
          ]
        }
      ]
    },
    {
      "cell_type": "markdown",
      "source": [
        "#### Implement Gradient Descent with a Fixed Step Size"
      ],
      "metadata": {
        "id": "AxjdP4rDlVb0"
      }
    },
    {
      "cell_type": "code",
      "source": [
        "# Write a function that runs the gradient descent method with fixed step size\n",
        "# Use the following inputs\n",
        "#   initial_beta = an n x 1 numpy.ndarray that contains the starting solution\n",
        "#   X_vals = an m x (n+1) numpy.ndarray that contains the feature values\n",
        "#   y_vals = an m x 1 numpy.ndarray that contains the responses\n",
        "#   step_size = a scalar that indicates the step size t for each step\n",
        "#   max_iter = a maximum number of iterations\n",
        "def gradient_descent(initial_beta, X_vals, y_vals, step_size, max_iter):\n",
        "  sol = initial_beta\n",
        "  sol_history = [sol] # will track the solutions we visit; comment this out unless you're creating a plot\n",
        "  obj_history = [f(sol, X_vals, y_vals)] # will track the objective values of the solutions we visit; comment this out unless creating a plot\n",
        "  num_iter = 0\n",
        "  while num_iter < max_iter:\n",
        "    sol = gd_update(sol, X_vals, y_vals, step_size)\n",
        "    sol_history.append(sol)\n",
        "    obj_history.append(f(sol, X_vals, y_vals))\n",
        "    num_iter += 1\n",
        "\n",
        "  return sol, num_iter, sol_history, obj_history"
      ],
      "metadata": {
        "id": "kkihmELml5qf"
      },
      "execution_count": null,
      "outputs": []
    },
    {
      "cell_type": "code",
      "source": [
        "# Execute the gradient descent method with step size 0.1\n",
        "initial_sol = np.array([0,0,0])\n",
        "(sol, num_iter, sol_history, obj_history) = gradient_descent(initial_sol, X, y, .01, 100)"
      ],
      "metadata": {
        "id": "896ccOM4qVkE"
      },
      "execution_count": null,
      "outputs": []
    },
    {
      "cell_type": "code",
      "source": [
        "# Print the results\n",
        "# The coefficients should be close to the theoretical values [5, 2, -3]\n",
        "print(sol)\n",
        "print(num_iter)\n",
        "print(sol_history)\n",
        "print(obj_history)"
      ],
      "metadata": {
        "id": "LOiHGgILrbzJ",
        "colab": {
          "base_uri": "https://localhost:8080/"
        },
        "outputId": "1378f8d2-e4b2-4166-8127-9077050e81ba"
      },
      "execution_count": null,
      "outputs": [
        {
          "output_type": "stream",
          "name": "stdout",
          "text": [
            "[ 4.9084904   1.76162268 -2.86074249]\n",
            "100\n",
            "[array([0, 0, 0]), array([ 0.12983332,  0.06359097, -0.09931205]), array([ 0.25639585,  0.12510135, -0.19542534]), array([ 0.37977482,  0.18459545, -0.28843899]), array([ 0.50005507,  0.24213564, -0.3784491 ]), array([ 0.61731905,  0.2977824 , -0.46554884]), array([ 0.73164697,  0.35159441, -0.54982857]), array([ 0.84311677,  0.40362854, -0.63137591]), array([ 0.95180428,  0.45393998, -0.7102758 ]), array([ 1.0577832 ,  0.50258222, -0.78661061]), array([ 1.16112522,  0.54960715, -0.86046022]), array([ 1.26190003,  0.59506509, -0.93190205]), array([ 1.3601754 ,  0.63900483, -1.00101119]), array([ 1.45601726,  0.68147368, -1.06786043]), array([ 1.54948968,  0.72251752, -1.13252036]), array([ 1.64065501,  0.76218086, -1.19505941]), array([ 1.72957386,  0.80050682, -1.25554391]), array([ 1.81630519,  0.83753726, -1.31403819]), array([ 1.90090632,  0.87331273, -1.37060461]), array([ 1.98343302,  0.90787256, -1.42530363]), array([ 2.06393952,  0.94125491, -1.47819386]), array([ 2.14247858,  0.97349674, -1.52933211]), array([ 2.2191015 ,  1.00463392, -1.57877348]), array([ 2.29385819,  1.03470122, -1.62657137]), array([ 2.36679718,  1.06373234, -1.67277753]), array([ 2.4379657 ,  1.09175997, -1.71744216]), array([ 2.50740968,  1.1188158 , -1.76061391]), array([ 2.5751738 ,  1.14493056, -1.80233992]), array([ 2.64130152,  1.17013401, -1.84266591]), array([ 2.70583512,  1.19445506, -1.88163618]), array([ 2.76881575,  1.21792169, -1.9192937 ]), array([ 2.83028342,  1.24056104, -1.95568009]), array([ 2.89027706,  1.26239944, -1.9908357 ]), array([ 2.94883456,  1.28346239, -2.02479964]), array([ 3.00599277,  1.30377461, -2.05760983]), array([ 3.06178755,  1.32336009, -2.08930301]), array([ 3.11625379,  1.34224205, -2.11991479]), array([ 3.16942544,  1.36044304, -2.14947969]), array([ 3.22133554,  1.37798488, -2.17803116]), array([ 3.27201623,  1.39488874, -2.20560162]), array([ 3.3214988 ,  1.41117514, -2.23222248]), array([ 3.36981369,  1.42686397, -2.25792421]), array([ 3.41699051,  1.4419745 , -2.2827363 ]), array([ 3.46305811,  1.45652542, -2.30668736]), array([ 3.50804454,  1.47053483, -2.3298051 ]), array([ 3.5519771 ,  1.4840203 , -2.35211637]), array([ 3.59488239,  1.49699882, -2.37364719]), array([ 3.63678625,  1.50948689, -2.39442278]), array([ 3.67771388,  1.52150048, -2.41446757]), array([ 3.71768978,  1.53305509, -2.43380524]), array([ 3.75673781,  1.5441657 , -2.45245872]), array([ 3.79488119,  1.55484687, -2.47045025]), array([ 3.83214253,  1.5651127 , -2.48780136]), array([ 3.86854383,  1.57497683, -2.50453291]), array([ 3.90410651,  1.58445249, -2.52066511]), array([ 3.93885144,  1.59355252, -2.53621756]), array([ 3.97279893,  1.60228934, -2.55120923]), array([ 4.00596873,  1.61067498, -2.56565849]), array([ 4.0383801 ,  1.61872111, -2.57958315]), array([ 4.07005178,  1.62643902, -2.59300047]), array([ 4.10100202,  1.63383968, -2.60592715]), array([ 4.13124859,  1.64093369, -2.61837937]), array([ 4.1608088 ,  1.64773132, -2.63037282]), array([ 4.18969949,  1.65424253, -2.64192269]), array([ 4.21793708,  1.66047697, -2.65304367]), array([ 4.24553755,  1.66644398, -2.66375002]), array([ 4.27251645,  1.67215261, -2.67405554]), array([ 4.29888895,  1.67761163, -2.6839736 ]), array([ 4.32466982,  1.68282953, -2.69351712]), array([ 4.34987342,  1.68781453, -2.70269866]), array([ 4.37451378,  1.6925746 , -2.71153034]), array([ 4.39860452,  1.69711746, -2.72002392]), array([ 4.42215894,  1.70145058, -2.72819078]), array([ 4.44518999,  1.7055812 , -2.73604196]), array([ 4.46771028,  1.70951633, -2.74358811]), array([ 4.48973209,  1.71326274, -2.75083957]), array([ 4.5112674 ,  1.71682702, -2.75780635]), array([ 4.53232786,  1.72021553, -2.76449814]), array([ 4.55292484,  1.72343443, -2.77092431]), array([ 4.57306941,  1.72648969, -2.77709394]), array([ 4.59277236,  1.72938707, -2.78301583]), array([ 4.6120442 ,  1.73213219, -2.78869848]), array([ 4.63089516,  1.73473044, -2.79415012]), array([ 4.64933524,  1.73718707, -2.79937874]), array([ 4.66737416,  1.73950716, -2.80439205]), array([ 4.68502141,  1.74169561, -2.80919751]), array([ 4.70228621,  1.74375717, -2.81380236]), array([ 4.71917757,  1.74569646, -2.81821359]), array([ 4.73570428,  1.74751792, -2.82243798]), array([ 4.75187489,  1.74922587, -2.82648208]), array([ 4.76769773,  1.75082446, -2.83035222]), array([ 4.78318094,  1.75231775, -2.83405455]), array([ 4.79833244,  1.75370963, -2.837595  ]), array([ 4.81315995,  1.75500388, -2.84097931]), array([ 4.827671  ,  1.75620416, -2.84421305]), array([ 4.84187295,  1.75731401, -2.84730159]), array([ 4.85577294,  1.75833685, -2.85025013]), array([ 4.86937796,  1.75927598, -2.8530637 ]), array([ 4.88269481,  1.76013462, -2.85574717]), array([ 4.89573014,  1.76091586, -2.85830525]), array([ 4.9084904 ,  1.76162268, -2.86074249])]\n",
            "[58.497595484763416, 55.46498889478397, 52.60229522873848, 49.89984616172752, 47.3485285487303, 44.939752375957944, 42.66542056788238, 40.517900542307935, 38.48999741210121, 36.57492873808159, 34.766300743118435, 33.05808590270334, 31.444601832184517, 29.920491395483275, 28.48070396447678, 27.120477762341597, 25.83532322802387, 24.621007342649634, 23.47353886212286, 22.38915440339495, 21.364305334936848, 20.395645424815385, 19.480019202479657, 18.614450992909873, 17.796134584180166, 17.022423491746686, 16.290821784900444, 15.598975442829513, 14.944664209623566, 14.325793919332428, 13.740389263866069, 13.186586978101435, 12.66262941804854, 12.166858509327975, 11.697710044531696, 11.25370830928085, 10.833461017965051, 10.435654541249828, 10.05904940847737, 9.70247606906383, 9.36483089791793, 9.045072430773372, 8.742217816145187, 8.455339471390214, 8.18356193107736, 7.926058876556539, 7.682050336258904, 7.450800046867309, 7.231612966067061, 7.023832928125103, 6.8268404340524835, 6.640050568582402, 6.462911036645991, 6.294900312451309, 6.135525894670439, 5.984322661615224, 5.840851320636526, 5.704696946315291, 5.57546760232808, 5.45279304216571, 5.336323484162522, 5.22572845655653, 5.12069570854808, 5.02093018355793, 4.926153051105191, 4.83610079393245, 4.750524347200375, 4.669188286757666, 4.591870063665225, 4.518359282316324, 4.448457019648138, 4.381975183084585, 4.318735904986702, 4.258570971515103, 4.201321283930047, 4.14683635046854, 4.094973807045249, 4.045598965125083, 3.9985843852106497, 3.953809474477461, 3.911160107174384, 3.8705282664864695, 3.831811706632412, 3.794913634039508, 3.759742406505733, 3.726211249321254, 3.694237987380867, 3.663744792374595, 3.63465794419617, 3.6069076057586047, 3.5804276104526727, 3.55515526152806, 3.5310311427182945, 3.5079989394696076, 3.4860052701705935, 3.464999526814143, 3.4449337245558156, 3.4257623596634845, 3.4074422753820994, 3.3899325352646867, 3.373194303546485]\n"
          ]
        }
      ]
    },
    {
      "cell_type": "code",
      "source": [
        "# Check the algorithm's convergence\n",
        "pt.plot(obj_history)\n",
        "pt.xlabel('Iteration')\n",
        "pt.ylabel('Objective Value')\n",
        "pt.title('Objective Value vs. Iteration')"
      ],
      "metadata": {
        "id": "gYSbTeSzwlek",
        "colab": {
          "base_uri": "https://localhost:8080/",
          "height": 489
        },
        "outputId": "beab8fff-88e2-47a9-9c0b-d5f389bc5fef"
      },
      "execution_count": null,
      "outputs": [
        {
          "output_type": "execute_result",
          "data": {
            "text/plain": [
              "Text(0.5, 1.0, 'Objective Value vs. Iteration')"
            ]
          },
          "metadata": {},
          "execution_count": 20
        },
        {
          "output_type": "display_data",
          "data": {
            "text/plain": [
              "<Figure size 640x480 with 1 Axes>"
            ],
            "image/png": "[encoded data removed]"
          },
          "metadata": {}
        }
      ]
    },
    {
      "cell_type": "markdown",
      "source": [
        "### Fit a Larger Dataset Using Gradient Descent"
      ],
      "metadata": {
        "id": "SvKggwSsq_mh"
      }
    },
    {
      "cell_type": "markdown",
      "source": [
        "Here, we repeat the previous experiment using a larger dataset with 2 features 100,000 observations.  We generate the data using the same process and the same theoretical model, i.e., $y = 5 + 2x_{1} -3x_{2}$."
      ],
      "metadata": {
        "id": "10XJZfdmrIy4"
      }
    },
    {
      "cell_type": "code",
      "source": [
        "# Generate a random data set with 2 features and 100,000 observations\n",
        "# Each obs. of each feature is generated from a standard normal distribution\n",
        "m = 100000\n",
        "n = 2\n",
        "np.random.seed(1)\n",
        "ones_array = np.ones((m,1))\n",
        "features_array = np.random.normal(0,1,(m,n))\n",
        "X = np.hstack((ones_array,features_array))\n",
        "\n",
        "# Generate response values according to the theoretical model y_i = 5 + 2x[i,1] -3x[i,2]\n",
        "theoretical_coefs = np.array([5, 2,-3])\n",
        "y = X @ theoretical_coefs + np.random.normal(0,2,m)"
      ],
      "metadata": {
        "id": "wPuS2_R6rFOL"
      },
      "execution_count": null,
      "outputs": []
    },
    {
      "cell_type": "markdown",
      "source": [
        "Here, we implement the same gradient descent algorithm as used in the smaller example."
      ],
      "metadata": {
        "id": "t99ktbVrrld4"
      }
    },
    {
      "cell_type": "code",
      "source": [
        "# Execute the gradient descent method with step size 0.1\n",
        "initial_sol = np.array([0,0,0])\n",
        "sol, num_iter, sol_history, obj_history = gradient_descent(initial_sol, X, y, 0.1, 100)"
      ],
      "metadata": {
        "id": "s9U4A3Phrv85"
      },
      "execution_count": null,
      "outputs": []
    },
    {
      "cell_type": "markdown",
      "source": [
        "Notice that there was a noticeable solution time this time around!"
      ],
      "metadata": {
        "id": "WtbwogxytHp5"
      }
    },
    {
      "cell_type": "code",
      "source": [
        "# The coefficients should be close to the theoretical values [5, 2, -3]\n",
        "print(sol)"
      ],
      "metadata": {
        "id": "zg18hHN5srxb",
        "colab": {
          "base_uri": "https://localhost:8080/"
        },
        "outputId": "eac40c6a-1950-48c5-fbf9-7a14ef66dae1"
      },
      "execution_count": null,
      "outputs": [
        {
          "output_type": "stream",
          "name": "stdout",
          "text": [
            "[ 4.99591385  1.99954141 -2.98978396]\n"
          ]
        }
      ]
    },
    {
      "cell_type": "code",
      "source": [
        "# Check the algorithm's convergence\n",
        "pt.plot(obj_history)\n",
        "pt.xlabel('Iteration')\n",
        "pt.ylabel('Objective Value')\n",
        "pt.title('Objective Value vs. Iteration')"
      ],
      "metadata": {
        "id": "g9ZMeZ5Ss2jD",
        "colab": {
          "base_uri": "https://localhost:8080/",
          "height": 489
        },
        "outputId": "9937dd71-4a74-4a78-f1e7-64de645c9fc1"
      },
      "execution_count": null,
      "outputs": [
        {
          "output_type": "execute_result",
          "data": {
            "text/plain": [
              "Text(0.5, 1.0, 'Objective Value vs. Iteration')"
            ]
          },
          "metadata": {},
          "execution_count": 24
        },
        {
          "output_type": "display_data",
          "data": {
            "text/plain": [
              "<Figure size 640x480 with 1 Axes>"
            ],
            "image/png": "[encoded data removed]"
          },
          "metadata": {}
        }
      ]
    },
    {
      "cell_type": "markdown",
      "source": [
        "## Solve Example Using Stochastic Gradient Descent"
      ],
      "metadata": {
        "id": "QKxBFymIthJq"
      }
    },
    {
      "cell_type": "markdown",
      "source": [
        "In the previous example, we observed that the solution time for the gradient descent method grows as a function of the number of observations/rows in the dataset.  For very large datasets, the run-time and memory required to evaluate the gradient can become a substantial problem, thus motivating alternative optimization methods.  In what follows, we introduce **stochastic gradient descent** and **minibatch gradient descent** methods that address the computational limitations of the gradient descent method by estimating the gradient using only a sample of the data."
      ],
      "metadata": {
        "id": "AkmBZUeU6Kyg"
      }
    },
    {
      "cell_type": "markdown",
      "source": [
        "* Gradient descent is referred to as **batch learning** because it operates on all of the data at once\n",
        "* Stochastic gradient descent and minibatch gradient descent are referred to as **online learning** it considers only a portion of the data, enabling model parameters to be updated as data is made available"
      ],
      "metadata": {
        "id": "9uR03Q0KKM2V"
      }
    },
    {
      "cell_type": "markdown",
      "source": [
        "#### Minibatch Stochastic Gradient Descent"
      ],
      "metadata": {
        "id": "DkyvLaZA_PDJ"
      }
    },
    {
      "cell_type": "markdown",
      "source": [
        "##### Approximating the Gradient"
      ],
      "metadata": {
        "id": "wwvCWTGbhJfj"
      }
    },
    {
      "cell_type": "markdown",
      "source": [
        "Instead of computing $\\nabla f(\\beta)$ exactly using\n",
        "$$\\partial f / \\partial \\beta_j = \\frac{2}{m}\\sum_{i=0}^{m-1}x_{ij}\\left(\\sum_{k = 0}^{n} \\beta_k x_{ij} - y_i\\right), \\ \\forall j = 0,1,\\ldots,n,$$\n",
        "we approximate $\\nabla f(\\beta)$ using a subset of the data referred to as a **minibatch**."
      ],
      "metadata": {
        "id": "hnSGdeRpAP_D"
      }
    },
    {
      "cell_type": "markdown",
      "source": [
        "Formally, let $B \\subseteq \\{0,1,\\ldots,m-1\\}$ denote a subset of rows in the dataset.  Let $X_B$ denote the submatrix of $X$ consisting of the row indices in $B$, and let $y_B$ denote the subvector of $y$ consisting of the row indices in $B$.  We can approximate $\\nabla f(\\beta)$ by using $X_B$ and $y_B$ in place of $X$ and $y$ in the gradient.  In matrix form, the approximate gradient is"
      ],
      "metadata": {
        "id": "8gtHcs0aCjHB"
      }
    },
    {
      "cell_type": "markdown",
      "source": [
        "$$ \\nabla f (\\beta) \\approx \\frac{2}{|B|} X_B^T(X_B\\beta - y_B) $$"
      ],
      "metadata": {
        "id": "jlTlH1tzWGWY"
      }
    },
    {
      "cell_type": "markdown",
      "source": [
        "Note that the approximate gradient can be computed using the same gradient function as above, but replacing $X$ and $y$ with $X_B$ and $y_B$.  Here, we approximate the gradient using $10$ randomly selected rows of data."
      ],
      "metadata": {
        "id": "95CVx9dYWMou"
      }
    },
    {
      "cell_type": "code",
      "source": [
        "# Sample 10 rows and approximate the gradient at [beta_0, beta_1, beta_2] = [0, 0, 0]\n",
        "sampled_rows = np.random.randint(X.shape[0], size = 10)\n",
        "print(sampled_rows)\n",
        "X_B = X[sampled_rows]\n",
        "y_B = y[sampled_rows]"
      ],
      "metadata": {
        "id": "iHVFo7ajWmy8",
        "colab": {
          "base_uri": "https://localhost:8080/"
        },
        "outputId": "7761149a-e58a-44ff-b6ca-2dfe3c3e04b9"
      },
      "execution_count": null,
      "outputs": [
        {
          "output_type": "stream",
          "name": "stdout",
          "text": [
            "[47686 86952 45204 89331 10803 10197 83298 96902 69328 84635]\n"
          ]
        }
      ]
    },
    {
      "cell_type": "markdown",
      "source": [
        "##### Implement a Single Minibatch Gradient Descent Step"
      ],
      "metadata": {
        "id": "rJxAZQq7nAAQ"
      }
    },
    {
      "cell_type": "markdown",
      "source": [
        "The minibatch gradient descent update is the same as our original update function \"gd_update\", but replacing $X$ and $y$ with $X_B$ and $y_B$.  Here, we demonstrate an update using $10$ randomly selected rows of data."
      ],
      "metadata": {
        "id": "AHg8AL7_N86q"
      }
    },
    {
      "cell_type": "code",
      "source": [
        "# Generate a minibatch of size 10 and evaluate the update\n",
        "beta_sol = np.array([0,0,0])\n",
        "print(gd_update(beta_sol, X_B, y_B, .1))"
      ],
      "metadata": {
        "id": "LWfmYA7Znbym",
        "colab": {
          "base_uri": "https://localhost:8080/"
        },
        "outputId": "c1975fbd-4cd4-4c25-cb6b-6b34ccecff0f"
      },
      "execution_count": null,
      "outputs": [
        {
          "output_type": "stream",
          "name": "stdout",
          "text": [
            "[ 0.88530004  0.68796447 -0.3258041 ]\n"
          ]
        }
      ]
    },
    {
      "cell_type": "markdown",
      "source": [
        "##### Implement Minibatch Gradient Descent"
      ],
      "metadata": {
        "id": "C13gnIpomfPy"
      }
    },
    {
      "cell_type": "code",
      "source": [
        "# Function that runs minibatch stochastic gradient descent method with fixed step size\n",
        "# Use the following inputs\n",
        "#   initial_sol = a numpy.array that contains the starting solution\n",
        "#   step_size = a scalar that indicates the step size t for each step\n",
        "#   minibatch_size = an integer that indicates the number of observations sampled in each step\n",
        "#   max_iter = a maximum number of iterations\n",
        "#   X_vals = X data\n",
        "#   y_vals = y data\n",
        "def minibatch_gd(initial_beta, X_vals, y_vals, minibatch_size, step_size, max_iter):\n",
        "  sol = initial_beta\n",
        "  sol_history = [sol] # skip this unless we need a record of solutions visited\n",
        "  obj_history = [f(sol,X_vals,y_vals)] # skip this unless we need to record loss function\n",
        "  num_iter = 0\n",
        "  while num_iter < max_iter:\n",
        "    # Here we sample with replacement; this is not the only way\n",
        "    sampled_rows = np.random.randint(X_vals.shape[0], size = minibatch_size)\n",
        "    X_B = X[sampled_rows] # Extract rows at random from X\n",
        "    y_B = y[sampled_rows] # Extract matching rows from y\n",
        "    sol = gd_update(sol, X_B, y_B, step_size)\n",
        "    sol_history.append(sol) #skip this unless we need the solutions visited\n",
        "    obj_history.append(f(sol,X_vals,y_vals)) #skip this unless we need to record loss function\n",
        "    num_iter += 1\n",
        "\n",
        "  return sol, num_iter, sol_history, obj_history"
      ],
      "metadata": {
        "id": "SYyR0xRG0OFB"
      },
      "execution_count": null,
      "outputs": []
    },
    {
      "cell_type": "markdown",
      "source": [
        "When $|B| = 1$, the algorithm is referred to as **stochastic gradient descent**."
      ],
      "metadata": {
        "id": "vqdQp0e3oxpt"
      }
    },
    {
      "cell_type": "code",
      "source": [
        "# Execute the stochastic gradient descent method with step size 0.1\n",
        "initial_sol = np.array([0,0,0])\n",
        "(sol, num_iter, sol_history, obj_history) = minibatch_gd(initial_sol, X, y, 1, 0.1, 1000)"
      ],
      "metadata": {
        "id": "bwc9lwwS1Fog"
      },
      "execution_count": null,
      "outputs": []
    },
    {
      "cell_type": "markdown",
      "source": [
        "It is worth noting that the most time consuming step in our implementation is evaluating the function $f$.  Our only purpose in including this step was to plot the algorithm's convergence; therefore, we can actually remove this step.  We demonstrate this below."
      ],
      "metadata": {
        "id": "uwHX6HkJp07N"
      }
    },
    {
      "cell_type": "code",
      "source": [
        "# The coefficients should be close to the theoretical value\n",
        "print(sol)"
      ],
      "metadata": {
        "id": "JJDw7XqP1WSN",
        "colab": {
          "base_uri": "https://localhost:8080/"
        },
        "outputId": "88138847-e52a-4f58-afc8-4df766111f65"
      },
      "execution_count": null,
      "outputs": [
        {
          "output_type": "stream",
          "name": "stdout",
          "text": [
            "[ 5.23789418  1.44818606 -4.51562444]\n"
          ]
        }
      ]
    },
    {
      "cell_type": "code",
      "source": [
        "# Plot the results\n",
        "pt.plot(obj_history)\n",
        "pt.xlabel('Iteration')\n",
        "pt.ylabel('Objective Value')\n",
        "pt.title('Optimal Objective Value vs. Iteration')"
      ],
      "metadata": {
        "id": "teuJ2InK1Z7y",
        "colab": {
          "base_uri": "https://localhost:8080/",
          "height": 489
        },
        "outputId": "69b2802c-6262-4fdd-a20e-7fffa047f6d8"
      },
      "execution_count": null,
      "outputs": [
        {
          "output_type": "execute_result",
          "data": {
            "text/plain": [
              "Text(0.5, 1.0, 'Optimal Objective Value vs. Iteration')"
            ]
          },
          "metadata": {},
          "execution_count": 30
        },
        {
          "output_type": "display_data",
          "data": {
            "text/plain": [
              "<Figure size 640x480 with 1 Axes>"
            ],
            "image/png": "[encoded data removed]"
          },
          "metadata": {}
        }
      ]
    },
    {
      "cell_type": "code",
      "source": [
        "# Remove the commmands that evaluate the objective value\n",
        "# Use the following inputs\n",
        "#   initial_sol = a numpy.array that contains the starting solution\n",
        "#   step_size = a scalar that indicates the step size t for each step\n",
        "#   minibatch_size = an integer that indicates the number of observations sampled in each step\n",
        "#   max_iter = a maximum number of iterations\n",
        "#   X_vals = X data\n",
        "#   y_vals = y data\n",
        "#   enable_output = True if we are recording solutions and objective values; False otherwise\n",
        "def minibatch_gd(initial_beta, X_vals, y_vals, minibatch_size, step_size, max_iter, enable_output):\n",
        "  sol = initial_beta\n",
        "  sol_history = []\n",
        "  obj_history = []\n",
        "  if enable_output == True:\n",
        "    sol_history = [sol]\n",
        "    obj_history = [f(sol,X_vals,y_vals)]\n",
        "\n",
        "  num_iter = 0\n",
        "  while num_iter < max_iter:\n",
        "    # Here we sample with replacement; this is not the only way\n",
        "    sampled_rows = np.random.randint(X_vals.shape[0], size = minibatch_size)\n",
        "    X_B = X[sampled_rows] # Extract rows at random from X\n",
        "    y_B = y[sampled_rows] # Extract matching rows from y\n",
        "    sol = gd_update(sol, X_B, y_B, step_size)\n",
        "    if enable_output == True:\n",
        "      sol_history.append(sol) #record the solutions visited\n",
        "      obj_history.append(f(sol,X_vals,y_vals)) #record loss function\n",
        "    num_iter += 1\n",
        "\n",
        "  return sol, num_iter, sol_history, obj_history"
      ],
      "metadata": {
        "id": "rMS9mH-fQ2k4"
      },
      "execution_count": null,
      "outputs": []
    },
    {
      "cell_type": "code",
      "source": [
        "# Rerun the code after removing the portion that stores the objective values\n",
        "# Try 1000 and 10000 iterations\n",
        "initial_sol = np.array([0,0,0])\n",
        "(sol, num_iter, sol_history, obj_history) = minibatch_gd(initial_sol, X, y, 1, 0.1, 1000, False)"
      ],
      "metadata": {
        "id": "2PbifJxkqeXq"
      },
      "execution_count": null,
      "outputs": []
    },
    {
      "cell_type": "code",
      "source": [
        "print(sol)"
      ],
      "metadata": {
        "id": "2v3NhINFRRhd",
        "colab": {
          "base_uri": "https://localhost:8080/"
        },
        "outputId": "0b618aec-1ec8-4bbe-bcf5-87a9f9dd15ab"
      },
      "execution_count": null,
      "outputs": [
        {
          "output_type": "stream",
          "name": "stdout",
          "text": [
            "[ 4.79708764  2.38344541 -3.28704789]\n"
          ]
        }
      ]
    },
    {
      "cell_type": "code",
      "source": [
        "# Try reducing the step size to 0.01\n",
        "initial_sol = np.array([0,0,0])\n",
        "(sol, num_iter, sol_history, obj_history) = minibatch_gd(initial_sol, X, y, 1, 0.01, 1000, False)"
      ],
      "metadata": {
        "id": "HSVhk-BcaT3M"
      },
      "execution_count": null,
      "outputs": []
    },
    {
      "cell_type": "code",
      "source": [
        "print(sol)"
      ],
      "metadata": {
        "id": "EFsNf2q8aa45",
        "colab": {
          "base_uri": "https://localhost:8080/"
        },
        "outputId": "736771a0-84ba-4e28-d491-3d697ecf5d06"
      },
      "execution_count": null,
      "outputs": [
        {
          "output_type": "stream",
          "name": "stdout",
          "text": [
            "[ 4.65763919  2.11301801 -3.13179556]\n"
          ]
        }
      ]
    },
    {
      "cell_type": "markdown",
      "source": [
        "##### Try it with Larger Minibatches"
      ],
      "metadata": {
        "id": "HhXkZIKRtY7I"
      }
    },
    {
      "cell_type": "markdown",
      "source": [
        "We now test the minibatch gradient descent code using a batch size of 1000."
      ],
      "metadata": {
        "id": "nH_SjJTxrrJ3"
      }
    },
    {
      "cell_type": "code",
      "source": [
        "#Try it with more iterations\n",
        "initial_sol = np.array([0, 0, 0])\n",
        "(sol, num_iter, sol_history, obj_history) = minibatch_gd(initial_sol, X, y, 1000, 0.1, 100, False)"
      ],
      "metadata": {
        "id": "BmzQ4PQ01pv4"
      },
      "execution_count": null,
      "outputs": []
    },
    {
      "cell_type": "code",
      "source": [
        "print(sol)"
      ],
      "metadata": {
        "id": "o76Y2TG3SGFJ",
        "colab": {
          "base_uri": "https://localhost:8080/"
        },
        "outputId": "4fae1170-a9fc-4f66-ab95-e4824d99a18c"
      },
      "execution_count": null,
      "outputs": [
        {
          "output_type": "stream",
          "name": "stdout",
          "text": [
            "[ 5.01239379  1.99994896 -2.94391091]\n"
          ]
        }
      ]
    },
    {
      "cell_type": "markdown",
      "source": [
        "The algorithm is quick and provides parameter estimates that are close to the theoretical values!"
      ],
      "metadata": {
        "id": "QvlVG0k8SXSO"
      }
    },
    {
      "cell_type": "markdown",
      "source": [
        "Try it again, this time recording the loss function at each step."
      ],
      "metadata": {
        "id": "CAMGXf-XSe-Z"
      }
    },
    {
      "cell_type": "code",
      "source": [
        "#Rerun, but record the loss function at each step\n",
        "initial_sol = np.array([0, 0, 0])\n",
        "(sol, num_iter, sol_history, obj_history) = minibatch_gd(initial_sol, X, y, 1000, 0.1, 100, True)\n",
        "print(sol)"
      ],
      "metadata": {
        "id": "zqw3FLMYS4jh",
        "colab": {
          "base_uri": "https://localhost:8080/"
        },
        "outputId": "747d3b77-1db3-46ed-e3ba-89a9fee07aeb"
      },
      "execution_count": null,
      "outputs": [
        {
          "output_type": "stream",
          "name": "stdout",
          "text": [
            "[ 5.0150709   2.01675567 -3.00868272]\n"
          ]
        }
      ]
    },
    {
      "cell_type": "code",
      "source": [
        "# Plot the results\n",
        "pt.plot(obj_history)\n",
        "pt.xlabel('Iteration')\n",
        "pt.ylabel('Objective Value')\n",
        "pt.title('Objective Value vs. Iteration')"
      ],
      "metadata": {
        "id": "ePrlhkNnToqY",
        "colab": {
          "base_uri": "https://localhost:8080/",
          "height": 489
        },
        "outputId": "938d1611-6a41-4dce-98da-166d206d094a"
      },
      "execution_count": null,
      "outputs": [
        {
          "output_type": "execute_result",
          "data": {
            "text/plain": [
              "Text(0.5, 1.0, 'Objective Value vs. Iteration')"
            ]
          },
          "metadata": {},
          "execution_count": 41
        },
        {
          "output_type": "display_data",
          "data": {
            "text/plain": [
              "<Figure size 640x480 with 1 Axes>"
            ],
            "image/png": "[encoded data removed]"
          },
          "metadata": {}
        }
      ]
    },
    {
      "cell_type": "markdown",
      "source": [
        "Note that using a minibatch size of $m$ results in gradient descent and a minibatch size of $1$ results in stochastic gradient descent.  By using a minibatch size between $1$ and $m$, the hope is to obtain a good approximation of the gradient (resulting in fewer iterations) that does not require too much computational effort to compute."
      ],
      "metadata": {
        "id": "8vji2b9As88z"
      }
    }
  ]
}